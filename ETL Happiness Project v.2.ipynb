{
 "cells": [
  {
   "cell_type": "markdown",
   "metadata": {},
   "source": [
    "# Import Dependencies"
   ]
  },
  {
   "cell_type": "code",
   "execution_count": 1,
   "metadata": {},
   "outputs": [],
   "source": [
    "import pandas as pd\n",
    "import math\n",
    "import matplotlib.pyplot as plt\n",
    "import numpy as np\n",
    "from sqlalchemy import create_engine\n",
    "from sqlalchemy.ext.declarative import declarative_base\n",
    "from sqlalchemy import Column, Integer, String, Float\n",
    "from sqlalchemy.orm import Session"
   ]
  },
  {
   "cell_type": "markdown",
   "metadata": {},
   "source": [
    "# Extract"
   ]
  },
  {
   "cell_type": "markdown",
   "metadata": {},
   "source": [
    "First, we'll be importing our raw data csvs and loading them into data frames to manipulate.\n",
    "\n",
    "The 2016 World Happiness Report is a csv file pulled from Kaggle containing data on 157 countries and their happiness levels measured by different aspects of life that contribute to general well-being.\n",
    "\n",
    "The Happiness Alcohol Consumption csv file is also from Kaggle and contains the consumption of beer, wine, and spirits per capita for 122 countries, 118 of which are outlined in the World Happiness Report.\n",
    "\n",
    "Both tables contain data from the year 2016."
   ]
  },
  {
   "cell_type": "markdown",
   "metadata": {},
   "source": [
    "### Importing the 2016 World Happiness Report"
   ]
  },
  {
   "cell_type": "code",
   "execution_count": 2,
   "metadata": {},
   "outputs": [
    {
     "data": {
      "text/html": [
       "<div>\n",
       "<style scoped>\n",
       "    .dataframe tbody tr th:only-of-type {\n",
       "        vertical-align: middle;\n",
       "    }\n",
       "\n",
       "    .dataframe tbody tr th {\n",
       "        vertical-align: top;\n",
       "    }\n",
       "\n",
       "    .dataframe thead th {\n",
       "        text-align: right;\n",
       "    }\n",
       "</style>\n",
       "<table border=\"1\" class=\"dataframe\">\n",
       "  <thead>\n",
       "    <tr style=\"text-align: right;\">\n",
       "      <th></th>\n",
       "      <th>Country</th>\n",
       "      <th>Region</th>\n",
       "      <th>Happiness Rank</th>\n",
       "      <th>Happiness Score</th>\n",
       "      <th>Lower Confidence Interval</th>\n",
       "      <th>Upper Confidence Interval</th>\n",
       "      <th>Economy (GDP per Capita)</th>\n",
       "      <th>Family</th>\n",
       "      <th>Health (Life Expectancy)</th>\n",
       "      <th>Freedom</th>\n",
       "      <th>Trust (Government Corruption)</th>\n",
       "      <th>Generosity</th>\n",
       "      <th>Dystopia Residual</th>\n",
       "    </tr>\n",
       "  </thead>\n",
       "  <tbody>\n",
       "    <tr>\n",
       "      <th>0</th>\n",
       "      <td>Denmark</td>\n",
       "      <td>Western Europe</td>\n",
       "      <td>1</td>\n",
       "      <td>7.526</td>\n",
       "      <td>7.460</td>\n",
       "      <td>7.592</td>\n",
       "      <td>1.44178</td>\n",
       "      <td>1.16374</td>\n",
       "      <td>0.79504</td>\n",
       "      <td>0.57941</td>\n",
       "      <td>0.44453</td>\n",
       "      <td>0.36171</td>\n",
       "      <td>2.73939</td>\n",
       "    </tr>\n",
       "    <tr>\n",
       "      <th>1</th>\n",
       "      <td>Switzerland</td>\n",
       "      <td>Western Europe</td>\n",
       "      <td>2</td>\n",
       "      <td>7.509</td>\n",
       "      <td>7.428</td>\n",
       "      <td>7.590</td>\n",
       "      <td>1.52733</td>\n",
       "      <td>1.14524</td>\n",
       "      <td>0.86303</td>\n",
       "      <td>0.58557</td>\n",
       "      <td>0.41203</td>\n",
       "      <td>0.28083</td>\n",
       "      <td>2.69463</td>\n",
       "    </tr>\n",
       "    <tr>\n",
       "      <th>2</th>\n",
       "      <td>Iceland</td>\n",
       "      <td>Western Europe</td>\n",
       "      <td>3</td>\n",
       "      <td>7.501</td>\n",
       "      <td>7.333</td>\n",
       "      <td>7.669</td>\n",
       "      <td>1.42666</td>\n",
       "      <td>1.18326</td>\n",
       "      <td>0.86733</td>\n",
       "      <td>0.56624</td>\n",
       "      <td>0.14975</td>\n",
       "      <td>0.47678</td>\n",
       "      <td>2.83137</td>\n",
       "    </tr>\n",
       "    <tr>\n",
       "      <th>3</th>\n",
       "      <td>Norway</td>\n",
       "      <td>Western Europe</td>\n",
       "      <td>4</td>\n",
       "      <td>7.498</td>\n",
       "      <td>7.421</td>\n",
       "      <td>7.575</td>\n",
       "      <td>1.57744</td>\n",
       "      <td>1.12690</td>\n",
       "      <td>0.79579</td>\n",
       "      <td>0.59609</td>\n",
       "      <td>0.35776</td>\n",
       "      <td>0.37895</td>\n",
       "      <td>2.66465</td>\n",
       "    </tr>\n",
       "    <tr>\n",
       "      <th>4</th>\n",
       "      <td>Finland</td>\n",
       "      <td>Western Europe</td>\n",
       "      <td>5</td>\n",
       "      <td>7.413</td>\n",
       "      <td>7.351</td>\n",
       "      <td>7.475</td>\n",
       "      <td>1.40598</td>\n",
       "      <td>1.13464</td>\n",
       "      <td>0.81091</td>\n",
       "      <td>0.57104</td>\n",
       "      <td>0.41004</td>\n",
       "      <td>0.25492</td>\n",
       "      <td>2.82596</td>\n",
       "    </tr>\n",
       "  </tbody>\n",
       "</table>\n",
       "</div>"
      ],
      "text/plain": [
       "       Country          Region  Happiness Rank  Happiness Score  \\\n",
       "0      Denmark  Western Europe               1            7.526   \n",
       "1  Switzerland  Western Europe               2            7.509   \n",
       "2      Iceland  Western Europe               3            7.501   \n",
       "3       Norway  Western Europe               4            7.498   \n",
       "4      Finland  Western Europe               5            7.413   \n",
       "\n",
       "   Lower Confidence Interval  Upper Confidence Interval  \\\n",
       "0                      7.460                      7.592   \n",
       "1                      7.428                      7.590   \n",
       "2                      7.333                      7.669   \n",
       "3                      7.421                      7.575   \n",
       "4                      7.351                      7.475   \n",
       "\n",
       "   Economy (GDP per Capita)   Family  Health (Life Expectancy)  Freedom  \\\n",
       "0                   1.44178  1.16374                   0.79504  0.57941   \n",
       "1                   1.52733  1.14524                   0.86303  0.58557   \n",
       "2                   1.42666  1.18326                   0.86733  0.56624   \n",
       "3                   1.57744  1.12690                   0.79579  0.59609   \n",
       "4                   1.40598  1.13464                   0.81091  0.57104   \n",
       "\n",
       "   Trust (Government Corruption)  Generosity  Dystopia Residual  \n",
       "0                        0.44453     0.36171            2.73939  \n",
       "1                        0.41203     0.28083            2.69463  \n",
       "2                        0.14975     0.47678            2.83137  \n",
       "3                        0.35776     0.37895            2.66465  \n",
       "4                        0.41004     0.25492            2.82596  "
      ]
     },
     "execution_count": 2,
     "metadata": {},
     "output_type": "execute_result"
    }
   ],
   "source": [
    "happy_csv_file = \"2016 World Happiness Report.csv\"\n",
    "happy_df = pd.read_csv(happy_csv_file)\n",
    "happy_df.head()"
   ]
  },
  {
   "cell_type": "markdown",
   "metadata": {},
   "source": [
    "### Importing the Happiness Alcohol Consumption file"
   ]
  },
  {
   "cell_type": "code",
   "execution_count": 3,
   "metadata": {},
   "outputs": [
    {
     "data": {
      "text/html": [
       "<div>\n",
       "<style scoped>\n",
       "    .dataframe tbody tr th:only-of-type {\n",
       "        vertical-align: middle;\n",
       "    }\n",
       "\n",
       "    .dataframe tbody tr th {\n",
       "        vertical-align: top;\n",
       "    }\n",
       "\n",
       "    .dataframe thead th {\n",
       "        text-align: right;\n",
       "    }\n",
       "</style>\n",
       "<table border=\"1\" class=\"dataframe\">\n",
       "  <thead>\n",
       "    <tr style=\"text-align: right;\">\n",
       "      <th></th>\n",
       "      <th>Country</th>\n",
       "      <th>Region</th>\n",
       "      <th>Hemisphere</th>\n",
       "      <th>HappinessScore</th>\n",
       "      <th>HDI</th>\n",
       "      <th>GDP_PerCapita</th>\n",
       "      <th>Beer_PerCapita</th>\n",
       "      <th>Spirit_PerCapita</th>\n",
       "      <th>Wine_PerCapita</th>\n",
       "    </tr>\n",
       "  </thead>\n",
       "  <tbody>\n",
       "    <tr>\n",
       "      <th>0</th>\n",
       "      <td>Denmark</td>\n",
       "      <td>Western Europe</td>\n",
       "      <td>north</td>\n",
       "      <td>7.526</td>\n",
       "      <td>928</td>\n",
       "      <td>53.579</td>\n",
       "      <td>224</td>\n",
       "      <td>81</td>\n",
       "      <td>278</td>\n",
       "    </tr>\n",
       "    <tr>\n",
       "      <th>1</th>\n",
       "      <td>Switzerland</td>\n",
       "      <td>Western Europe</td>\n",
       "      <td>north</td>\n",
       "      <td>7.509</td>\n",
       "      <td>943</td>\n",
       "      <td>79.866</td>\n",
       "      <td>185</td>\n",
       "      <td>100</td>\n",
       "      <td>280</td>\n",
       "    </tr>\n",
       "    <tr>\n",
       "      <th>2</th>\n",
       "      <td>Iceland</td>\n",
       "      <td>Western Europe</td>\n",
       "      <td>north</td>\n",
       "      <td>7.501</td>\n",
       "      <td>933</td>\n",
       "      <td>60.530</td>\n",
       "      <td>233</td>\n",
       "      <td>61</td>\n",
       "      <td>78</td>\n",
       "    </tr>\n",
       "    <tr>\n",
       "      <th>3</th>\n",
       "      <td>Norway</td>\n",
       "      <td>Western Europe</td>\n",
       "      <td>north</td>\n",
       "      <td>7.498</td>\n",
       "      <td>951</td>\n",
       "      <td>70.890</td>\n",
       "      <td>169</td>\n",
       "      <td>71</td>\n",
       "      <td>129</td>\n",
       "    </tr>\n",
       "    <tr>\n",
       "      <th>4</th>\n",
       "      <td>Finland</td>\n",
       "      <td>Western Europe</td>\n",
       "      <td>north</td>\n",
       "      <td>7.413</td>\n",
       "      <td>918</td>\n",
       "      <td>43.433</td>\n",
       "      <td>263</td>\n",
       "      <td>133</td>\n",
       "      <td>97</td>\n",
       "    </tr>\n",
       "  </tbody>\n",
       "</table>\n",
       "</div>"
      ],
      "text/plain": [
       "       Country          Region Hemisphere  HappinessScore  HDI  GDP_PerCapita  \\\n",
       "0      Denmark  Western Europe      north           7.526  928         53.579   \n",
       "1  Switzerland  Western Europe      north           7.509  943         79.866   \n",
       "2      Iceland  Western Europe      north           7.501  933         60.530   \n",
       "3       Norway  Western Europe      north           7.498  951         70.890   \n",
       "4      Finland  Western Europe      north           7.413  918         43.433   \n",
       "\n",
       "   Beer_PerCapita  Spirit_PerCapita  Wine_PerCapita  \n",
       "0             224                81             278  \n",
       "1             185               100             280  \n",
       "2             233                61              78  \n",
       "3             169                71             129  \n",
       "4             263               133              97  "
      ]
     },
     "execution_count": 3,
     "metadata": {},
     "output_type": "execute_result"
    }
   ],
   "source": [
    "happy_alc_file = \"HappinessAlcoholConsumption.csv\"\n",
    "happy_alc_df = pd.read_csv(happy_alc_file)\n",
    "happy_alc_df.head()"
   ]
  },
  {
   "cell_type": "markdown",
   "metadata": {},
   "source": [
    "Now we're going to check how many rows are in each of the data frames we just created and cros reference with our csv files to confirm all data was successfully passed in"
   ]
  },
  {
   "cell_type": "code",
   "execution_count": 4,
   "metadata": {},
   "outputs": [
    {
     "data": {
      "text/plain": [
       "122"
      ]
     },
     "execution_count": 4,
     "metadata": {},
     "output_type": "execute_result"
    }
   ],
   "source": [
    "len(happy_alc_df.index)"
   ]
  },
  {
   "cell_type": "code",
   "execution_count": 5,
   "metadata": {},
   "outputs": [
    {
     "data": {
      "text/plain": [
       "157"
      ]
     },
     "execution_count": 5,
     "metadata": {},
     "output_type": "execute_result"
    }
   ],
   "source": [
    "len(happy_df.index)"
   ]
  },
  {
   "cell_type": "markdown",
   "metadata": {},
   "source": [
    "# Transform"
   ]
  },
  {
   "cell_type": "markdown",
   "metadata": {},
   "source": [
    "Looks good! Time to clean up our data. Next, we'll be merging our two dataframes in order to have both the country's alcohol consumption and happiness ranks/scores in one cohesive place."
   ]
  },
  {
   "cell_type": "code",
   "execution_count": 6,
   "metadata": {},
   "outputs": [
    {
     "data": {
      "text/html": [
       "<div>\n",
       "<style scoped>\n",
       "    .dataframe tbody tr th:only-of-type {\n",
       "        vertical-align: middle;\n",
       "    }\n",
       "\n",
       "    .dataframe tbody tr th {\n",
       "        vertical-align: top;\n",
       "    }\n",
       "\n",
       "    .dataframe thead th {\n",
       "        text-align: right;\n",
       "    }\n",
       "</style>\n",
       "<table border=\"1\" class=\"dataframe\">\n",
       "  <thead>\n",
       "    <tr style=\"text-align: right;\">\n",
       "      <th></th>\n",
       "      <th>Country</th>\n",
       "      <th>Region_x</th>\n",
       "      <th>Hemisphere</th>\n",
       "      <th>HappinessScore</th>\n",
       "      <th>HDI</th>\n",
       "      <th>GDP_PerCapita</th>\n",
       "      <th>Beer_PerCapita</th>\n",
       "      <th>Spirit_PerCapita</th>\n",
       "      <th>Wine_PerCapita</th>\n",
       "      <th>Region_y</th>\n",
       "      <th>...</th>\n",
       "      <th>Happiness Score</th>\n",
       "      <th>Lower Confidence Interval</th>\n",
       "      <th>Upper Confidence Interval</th>\n",
       "      <th>Economy (GDP per Capita)</th>\n",
       "      <th>Family</th>\n",
       "      <th>Health (Life Expectancy)</th>\n",
       "      <th>Freedom</th>\n",
       "      <th>Trust (Government Corruption)</th>\n",
       "      <th>Generosity</th>\n",
       "      <th>Dystopia Residual</th>\n",
       "    </tr>\n",
       "  </thead>\n",
       "  <tbody>\n",
       "    <tr>\n",
       "      <th>0</th>\n",
       "      <td>Denmark</td>\n",
       "      <td>Western Europe</td>\n",
       "      <td>north</td>\n",
       "      <td>7.526</td>\n",
       "      <td>928</td>\n",
       "      <td>53.579</td>\n",
       "      <td>224</td>\n",
       "      <td>81</td>\n",
       "      <td>278</td>\n",
       "      <td>Western Europe</td>\n",
       "      <td>...</td>\n",
       "      <td>7.526</td>\n",
       "      <td>7.460</td>\n",
       "      <td>7.592</td>\n",
       "      <td>1.44178</td>\n",
       "      <td>1.16374</td>\n",
       "      <td>0.79504</td>\n",
       "      <td>0.57941</td>\n",
       "      <td>0.44453</td>\n",
       "      <td>0.36171</td>\n",
       "      <td>2.73939</td>\n",
       "    </tr>\n",
       "    <tr>\n",
       "      <th>1</th>\n",
       "      <td>Switzerland</td>\n",
       "      <td>Western Europe</td>\n",
       "      <td>north</td>\n",
       "      <td>7.509</td>\n",
       "      <td>943</td>\n",
       "      <td>79.866</td>\n",
       "      <td>185</td>\n",
       "      <td>100</td>\n",
       "      <td>280</td>\n",
       "      <td>Western Europe</td>\n",
       "      <td>...</td>\n",
       "      <td>7.509</td>\n",
       "      <td>7.428</td>\n",
       "      <td>7.590</td>\n",
       "      <td>1.52733</td>\n",
       "      <td>1.14524</td>\n",
       "      <td>0.86303</td>\n",
       "      <td>0.58557</td>\n",
       "      <td>0.41203</td>\n",
       "      <td>0.28083</td>\n",
       "      <td>2.69463</td>\n",
       "    </tr>\n",
       "    <tr>\n",
       "      <th>2</th>\n",
       "      <td>Iceland</td>\n",
       "      <td>Western Europe</td>\n",
       "      <td>north</td>\n",
       "      <td>7.501</td>\n",
       "      <td>933</td>\n",
       "      <td>60.530</td>\n",
       "      <td>233</td>\n",
       "      <td>61</td>\n",
       "      <td>78</td>\n",
       "      <td>Western Europe</td>\n",
       "      <td>...</td>\n",
       "      <td>7.501</td>\n",
       "      <td>7.333</td>\n",
       "      <td>7.669</td>\n",
       "      <td>1.42666</td>\n",
       "      <td>1.18326</td>\n",
       "      <td>0.86733</td>\n",
       "      <td>0.56624</td>\n",
       "      <td>0.14975</td>\n",
       "      <td>0.47678</td>\n",
       "      <td>2.83137</td>\n",
       "    </tr>\n",
       "    <tr>\n",
       "      <th>3</th>\n",
       "      <td>Norway</td>\n",
       "      <td>Western Europe</td>\n",
       "      <td>north</td>\n",
       "      <td>7.498</td>\n",
       "      <td>951</td>\n",
       "      <td>70.890</td>\n",
       "      <td>169</td>\n",
       "      <td>71</td>\n",
       "      <td>129</td>\n",
       "      <td>Western Europe</td>\n",
       "      <td>...</td>\n",
       "      <td>7.498</td>\n",
       "      <td>7.421</td>\n",
       "      <td>7.575</td>\n",
       "      <td>1.57744</td>\n",
       "      <td>1.12690</td>\n",
       "      <td>0.79579</td>\n",
       "      <td>0.59609</td>\n",
       "      <td>0.35776</td>\n",
       "      <td>0.37895</td>\n",
       "      <td>2.66465</td>\n",
       "    </tr>\n",
       "    <tr>\n",
       "      <th>4</th>\n",
       "      <td>Finland</td>\n",
       "      <td>Western Europe</td>\n",
       "      <td>north</td>\n",
       "      <td>7.413</td>\n",
       "      <td>918</td>\n",
       "      <td>43.433</td>\n",
       "      <td>263</td>\n",
       "      <td>133</td>\n",
       "      <td>97</td>\n",
       "      <td>Western Europe</td>\n",
       "      <td>...</td>\n",
       "      <td>7.413</td>\n",
       "      <td>7.351</td>\n",
       "      <td>7.475</td>\n",
       "      <td>1.40598</td>\n",
       "      <td>1.13464</td>\n",
       "      <td>0.81091</td>\n",
       "      <td>0.57104</td>\n",
       "      <td>0.41004</td>\n",
       "      <td>0.25492</td>\n",
       "      <td>2.82596</td>\n",
       "    </tr>\n",
       "  </tbody>\n",
       "</table>\n",
       "<p>5 rows × 21 columns</p>\n",
       "</div>"
      ],
      "text/plain": [
       "       Country        Region_x Hemisphere  HappinessScore  HDI  GDP_PerCapita  \\\n",
       "0      Denmark  Western Europe      north           7.526  928         53.579   \n",
       "1  Switzerland  Western Europe      north           7.509  943         79.866   \n",
       "2      Iceland  Western Europe      north           7.501  933         60.530   \n",
       "3       Norway  Western Europe      north           7.498  951         70.890   \n",
       "4      Finland  Western Europe      north           7.413  918         43.433   \n",
       "\n",
       "   Beer_PerCapita  Spirit_PerCapita  Wine_PerCapita        Region_y  ...  \\\n",
       "0             224                81             278  Western Europe  ...   \n",
       "1             185               100             280  Western Europe  ...   \n",
       "2             233                61              78  Western Europe  ...   \n",
       "3             169                71             129  Western Europe  ...   \n",
       "4             263               133              97  Western Europe  ...   \n",
       "\n",
       "   Happiness Score  Lower Confidence Interval  Upper Confidence Interval  \\\n",
       "0            7.526                      7.460                      7.592   \n",
       "1            7.509                      7.428                      7.590   \n",
       "2            7.501                      7.333                      7.669   \n",
       "3            7.498                      7.421                      7.575   \n",
       "4            7.413                      7.351                      7.475   \n",
       "\n",
       "   Economy (GDP per Capita)   Family  Health (Life Expectancy)  Freedom  \\\n",
       "0                   1.44178  1.16374                   0.79504  0.57941   \n",
       "1                   1.52733  1.14524                   0.86303  0.58557   \n",
       "2                   1.42666  1.18326                   0.86733  0.56624   \n",
       "3                   1.57744  1.12690                   0.79579  0.59609   \n",
       "4                   1.40598  1.13464                   0.81091  0.57104   \n",
       "\n",
       "   Trust (Government Corruption)  Generosity  Dystopia Residual  \n",
       "0                        0.44453     0.36171            2.73939  \n",
       "1                        0.41203     0.28083            2.69463  \n",
       "2                        0.14975     0.47678            2.83137  \n",
       "3                        0.35776     0.37895            2.66465  \n",
       "4                        0.41004     0.25492            2.82596  \n",
       "\n",
       "[5 rows x 21 columns]"
      ]
     },
     "execution_count": 6,
     "metadata": {},
     "output_type": "execute_result"
    }
   ],
   "source": [
    "combined_happy_df = pd.merge(happy_alc_df, happy_df, on='Country')\n",
    "combined_happy_df.head()"
   ]
  },
  {
   "cell_type": "markdown",
   "metadata": {},
   "source": [
    "Let's check to see what our final count of countries is and check to see if any columns can be tossed."
   ]
  },
  {
   "cell_type": "code",
   "execution_count": 7,
   "metadata": {},
   "outputs": [
    {
     "data": {
      "text/plain": [
       "118"
      ]
     },
     "execution_count": 7,
     "metadata": {},
     "output_type": "execute_result"
    }
   ],
   "source": [
    "len(combined_happy_df.index)"
   ]
  },
  {
   "cell_type": "code",
   "execution_count": 8,
   "metadata": {},
   "outputs": [
    {
     "data": {
      "text/plain": [
       "Index(['Country', 'Region_x', 'Hemisphere', 'HappinessScore', 'HDI',\n",
       "       'GDP_PerCapita', 'Beer_PerCapita', 'Spirit_PerCapita', 'Wine_PerCapita',\n",
       "       'Region_y', 'Happiness Rank', 'Happiness Score',\n",
       "       'Lower Confidence Interval', 'Upper Confidence Interval',\n",
       "       'Economy (GDP per Capita)', 'Family', 'Health (Life Expectancy)',\n",
       "       'Freedom', 'Trust (Government Corruption)', 'Generosity',\n",
       "       'Dystopia Residual'],\n",
       "      dtype='object')"
      ]
     },
     "execution_count": 8,
     "metadata": {},
     "output_type": "execute_result"
    }
   ],
   "source": [
    "combined_happy_df.columns"
   ]
  },
  {
   "cell_type": "code",
   "execution_count": 9,
   "metadata": {},
   "outputs": [
    {
     "data": {
      "text/html": [
       "<div>\n",
       "<style scoped>\n",
       "    .dataframe tbody tr th:only-of-type {\n",
       "        vertical-align: middle;\n",
       "    }\n",
       "\n",
       "    .dataframe tbody tr th {\n",
       "        vertical-align: top;\n",
       "    }\n",
       "\n",
       "    .dataframe thead th {\n",
       "        text-align: right;\n",
       "    }\n",
       "</style>\n",
       "<table border=\"1\" class=\"dataframe\">\n",
       "  <thead>\n",
       "    <tr style=\"text-align: right;\">\n",
       "      <th></th>\n",
       "      <th>Country</th>\n",
       "      <th>Region_x</th>\n",
       "      <th>Hemisphere</th>\n",
       "      <th>HappinessScore</th>\n",
       "      <th>Beer_PerCapita</th>\n",
       "      <th>Spirit_PerCapita</th>\n",
       "      <th>Wine_PerCapita</th>\n",
       "      <th>Happiness Rank</th>\n",
       "      <th>Happiness Score</th>\n",
       "      <th>Economy (GDP per Capita)</th>\n",
       "      <th>Family</th>\n",
       "      <th>Health (Life Expectancy)</th>\n",
       "      <th>Freedom</th>\n",
       "      <th>Trust (Government Corruption)</th>\n",
       "      <th>Generosity</th>\n",
       "      <th>Dystopia Residual</th>\n",
       "    </tr>\n",
       "  </thead>\n",
       "  <tbody>\n",
       "    <tr>\n",
       "      <th>0</th>\n",
       "      <td>Denmark</td>\n",
       "      <td>Western Europe</td>\n",
       "      <td>north</td>\n",
       "      <td>7.526</td>\n",
       "      <td>224</td>\n",
       "      <td>81</td>\n",
       "      <td>278</td>\n",
       "      <td>1</td>\n",
       "      <td>7.526</td>\n",
       "      <td>1.44178</td>\n",
       "      <td>1.16374</td>\n",
       "      <td>0.79504</td>\n",
       "      <td>0.57941</td>\n",
       "      <td>0.44453</td>\n",
       "      <td>0.36171</td>\n",
       "      <td>2.73939</td>\n",
       "    </tr>\n",
       "    <tr>\n",
       "      <th>1</th>\n",
       "      <td>Switzerland</td>\n",
       "      <td>Western Europe</td>\n",
       "      <td>north</td>\n",
       "      <td>7.509</td>\n",
       "      <td>185</td>\n",
       "      <td>100</td>\n",
       "      <td>280</td>\n",
       "      <td>2</td>\n",
       "      <td>7.509</td>\n",
       "      <td>1.52733</td>\n",
       "      <td>1.14524</td>\n",
       "      <td>0.86303</td>\n",
       "      <td>0.58557</td>\n",
       "      <td>0.41203</td>\n",
       "      <td>0.28083</td>\n",
       "      <td>2.69463</td>\n",
       "    </tr>\n",
       "    <tr>\n",
       "      <th>2</th>\n",
       "      <td>Iceland</td>\n",
       "      <td>Western Europe</td>\n",
       "      <td>north</td>\n",
       "      <td>7.501</td>\n",
       "      <td>233</td>\n",
       "      <td>61</td>\n",
       "      <td>78</td>\n",
       "      <td>3</td>\n",
       "      <td>7.501</td>\n",
       "      <td>1.42666</td>\n",
       "      <td>1.18326</td>\n",
       "      <td>0.86733</td>\n",
       "      <td>0.56624</td>\n",
       "      <td>0.14975</td>\n",
       "      <td>0.47678</td>\n",
       "      <td>2.83137</td>\n",
       "    </tr>\n",
       "    <tr>\n",
       "      <th>3</th>\n",
       "      <td>Norway</td>\n",
       "      <td>Western Europe</td>\n",
       "      <td>north</td>\n",
       "      <td>7.498</td>\n",
       "      <td>169</td>\n",
       "      <td>71</td>\n",
       "      <td>129</td>\n",
       "      <td>4</td>\n",
       "      <td>7.498</td>\n",
       "      <td>1.57744</td>\n",
       "      <td>1.12690</td>\n",
       "      <td>0.79579</td>\n",
       "      <td>0.59609</td>\n",
       "      <td>0.35776</td>\n",
       "      <td>0.37895</td>\n",
       "      <td>2.66465</td>\n",
       "    </tr>\n",
       "    <tr>\n",
       "      <th>4</th>\n",
       "      <td>Finland</td>\n",
       "      <td>Western Europe</td>\n",
       "      <td>north</td>\n",
       "      <td>7.413</td>\n",
       "      <td>263</td>\n",
       "      <td>133</td>\n",
       "      <td>97</td>\n",
       "      <td>5</td>\n",
       "      <td>7.413</td>\n",
       "      <td>1.40598</td>\n",
       "      <td>1.13464</td>\n",
       "      <td>0.81091</td>\n",
       "      <td>0.57104</td>\n",
       "      <td>0.41004</td>\n",
       "      <td>0.25492</td>\n",
       "      <td>2.82596</td>\n",
       "    </tr>\n",
       "  </tbody>\n",
       "</table>\n",
       "</div>"
      ],
      "text/plain": [
       "       Country        Region_x Hemisphere  HappinessScore  Beer_PerCapita  \\\n",
       "0      Denmark  Western Europe      north           7.526             224   \n",
       "1  Switzerland  Western Europe      north           7.509             185   \n",
       "2      Iceland  Western Europe      north           7.501             233   \n",
       "3       Norway  Western Europe      north           7.498             169   \n",
       "4      Finland  Western Europe      north           7.413             263   \n",
       "\n",
       "   Spirit_PerCapita  Wine_PerCapita  Happiness Rank  Happiness Score  \\\n",
       "0                81             278               1            7.526   \n",
       "1               100             280               2            7.509   \n",
       "2                61              78               3            7.501   \n",
       "3                71             129               4            7.498   \n",
       "4               133              97               5            7.413   \n",
       "\n",
       "   Economy (GDP per Capita)   Family  Health (Life Expectancy)  Freedom  \\\n",
       "0                   1.44178  1.16374                   0.79504  0.57941   \n",
       "1                   1.52733  1.14524                   0.86303  0.58557   \n",
       "2                   1.42666  1.18326                   0.86733  0.56624   \n",
       "3                   1.57744  1.12690                   0.79579  0.59609   \n",
       "4                   1.40598  1.13464                   0.81091  0.57104   \n",
       "\n",
       "   Trust (Government Corruption)  Generosity  Dystopia Residual  \n",
       "0                        0.44453     0.36171            2.73939  \n",
       "1                        0.41203     0.28083            2.69463  \n",
       "2                        0.14975     0.47678            2.83137  \n",
       "3                        0.35776     0.37895            2.66465  \n",
       "4                        0.41004     0.25492            2.82596  "
      ]
     },
     "execution_count": 9,
     "metadata": {},
     "output_type": "execute_result"
    }
   ],
   "source": [
    "combined_happy_df = combined_happy_df.drop(['HDI', 'GDP_PerCapita', \n",
    "                                            'Lower Confidence Interval', 'Upper Confidence Interval',\n",
    "                                           'Region_y'],1)\n",
    "combined_happy_df.head()"
   ]
  },
  {
   "cell_type": "markdown",
   "metadata": {},
   "source": [
    "Let's confirm our columns were appropriately updated on our merged data frame."
   ]
  },
  {
   "cell_type": "code",
   "execution_count": 10,
   "metadata": {},
   "outputs": [
    {
     "data": {
      "text/plain": [
       "Index(['Country', 'Region_x', 'Hemisphere', 'HappinessScore', 'Beer_PerCapita',\n",
       "       'Spirit_PerCapita', 'Wine_PerCapita', 'Happiness Rank',\n",
       "       'Happiness Score', 'Economy (GDP per Capita)', 'Family',\n",
       "       'Health (Life Expectancy)', 'Freedom', 'Trust (Government Corruption)',\n",
       "       'Generosity', 'Dystopia Residual'],\n",
       "      dtype='object')"
      ]
     },
     "execution_count": 10,
     "metadata": {},
     "output_type": "execute_result"
    }
   ],
   "source": [
    "combined_happy_df.columns"
   ]
  },
  {
   "cell_type": "markdown",
   "metadata": {},
   "source": [
    "And now we can use this data frame to pull some statistics on the data before grouping by region to run some visualizations"
   ]
  },
  {
   "cell_type": "code",
   "execution_count": 11,
   "metadata": {},
   "outputs": [
    {
     "data": {
      "text/html": [
       "<div>\n",
       "<style scoped>\n",
       "    .dataframe tbody tr th:only-of-type {\n",
       "        vertical-align: middle;\n",
       "    }\n",
       "\n",
       "    .dataframe tbody tr th {\n",
       "        vertical-align: top;\n",
       "    }\n",
       "\n",
       "    .dataframe thead th {\n",
       "        text-align: right;\n",
       "    }\n",
       "</style>\n",
       "<table border=\"1\" class=\"dataframe\">\n",
       "  <thead>\n",
       "    <tr style=\"text-align: right;\">\n",
       "      <th></th>\n",
       "      <th>Happiness Score</th>\n",
       "    </tr>\n",
       "  </thead>\n",
       "  <tbody>\n",
       "    <tr>\n",
       "      <th>count</th>\n",
       "      <td>118.000000</td>\n",
       "    </tr>\n",
       "    <tr>\n",
       "      <th>mean</th>\n",
       "      <td>5.557195</td>\n",
       "    </tr>\n",
       "    <tr>\n",
       "      <th>std</th>\n",
       "      <td>1.145853</td>\n",
       "    </tr>\n",
       "    <tr>\n",
       "      <th>min</th>\n",
       "      <td>3.069000</td>\n",
       "    </tr>\n",
       "    <tr>\n",
       "      <th>25%</th>\n",
       "      <td>4.640000</td>\n",
       "    </tr>\n",
       "    <tr>\n",
       "      <th>50%</th>\n",
       "      <td>5.553000</td>\n",
       "    </tr>\n",
       "    <tr>\n",
       "      <th>75%</th>\n",
       "      <td>6.480250</td>\n",
       "    </tr>\n",
       "    <tr>\n",
       "      <th>max</th>\n",
       "      <td>7.526000</td>\n",
       "    </tr>\n",
       "  </tbody>\n",
       "</table>\n",
       "</div>"
      ],
      "text/plain": [
       "       Happiness Score\n",
       "count       118.000000\n",
       "mean          5.557195\n",
       "std           1.145853\n",
       "min           3.069000\n",
       "25%           4.640000\n",
       "50%           5.553000\n",
       "75%           6.480250\n",
       "max           7.526000"
      ]
     },
     "execution_count": 11,
     "metadata": {},
     "output_type": "execute_result"
    }
   ],
   "source": [
    "combined_happy_df[['Happiness Score']].describe()"
   ]
  },
  {
   "cell_type": "markdown",
   "metadata": {},
   "source": [
    "### Grouping by Region"
   ]
  },
  {
   "cell_type": "markdown",
   "metadata": {},
   "source": [
    "We're going to group our data by region and see if there are any significant stand-outs regarding happiness and alcohol consumption"
   ]
  },
  {
   "cell_type": "code",
   "execution_count": 12,
   "metadata": {},
   "outputs": [
    {
     "data": {
      "text/plain": [
       "array(['Western Europe', 'North America', 'Australia and New Zealand',\n",
       "       'Middle East and Northern Africa', 'Latin America and Caribbean',\n",
       "       'Southeastern Asia', 'Central and Eastern Europe', 'Eastern Asia',\n",
       "       'Sub-Saharan Africa'], dtype=object)"
      ]
     },
     "execution_count": 12,
     "metadata": {},
     "output_type": "execute_result"
    }
   ],
   "source": [
    "combined_happy_df.Region_x.unique()"
   ]
  },
  {
   "cell_type": "code",
   "execution_count": 13,
   "metadata": {},
   "outputs": [
    {
     "data": {
      "text/html": [
       "<div>\n",
       "<style scoped>\n",
       "    .dataframe tbody tr th:only-of-type {\n",
       "        vertical-align: middle;\n",
       "    }\n",
       "\n",
       "    .dataframe tbody tr th {\n",
       "        vertical-align: top;\n",
       "    }\n",
       "\n",
       "    .dataframe thead th {\n",
       "        text-align: right;\n",
       "    }\n",
       "</style>\n",
       "<table border=\"1\" class=\"dataframe\">\n",
       "  <thead>\n",
       "    <tr style=\"text-align: right;\">\n",
       "      <th></th>\n",
       "      <th>HappinessScore</th>\n",
       "      <th>Beer_PerCapita</th>\n",
       "      <th>Spirit_PerCapita</th>\n",
       "      <th>Wine_PerCapita</th>\n",
       "      <th>Happiness Rank</th>\n",
       "      <th>Happiness Score</th>\n",
       "      <th>Economy (GDP per Capita)</th>\n",
       "      <th>Family</th>\n",
       "      <th>Health (Life Expectancy)</th>\n",
       "      <th>Freedom</th>\n",
       "      <th>Trust (Government Corruption)</th>\n",
       "      <th>Generosity</th>\n",
       "      <th>Dystopia Residual</th>\n",
       "    </tr>\n",
       "    <tr>\n",
       "      <th>Region_x</th>\n",
       "      <th></th>\n",
       "      <th></th>\n",
       "      <th></th>\n",
       "      <th></th>\n",
       "      <th></th>\n",
       "      <th></th>\n",
       "      <th></th>\n",
       "      <th></th>\n",
       "      <th></th>\n",
       "      <th></th>\n",
       "      <th></th>\n",
       "      <th></th>\n",
       "      <th></th>\n",
       "    </tr>\n",
       "  </thead>\n",
       "  <tbody>\n",
       "    <tr>\n",
       "      <th>Australia and New Zealand</th>\n",
       "      <td>7.323500</td>\n",
       "      <td>232.000000</td>\n",
       "      <td>75.500000</td>\n",
       "      <td>193.500000</td>\n",
       "      <td>8.500000</td>\n",
       "      <td>7.323500</td>\n",
       "      <td>1.402545</td>\n",
       "      <td>1.138770</td>\n",
       "      <td>0.841080</td>\n",
       "      <td>0.574920</td>\n",
       "      <td>0.371175</td>\n",
       "      <td>0.484040</td>\n",
       "      <td>2.511015</td>\n",
       "    </tr>\n",
       "    <tr>\n",
       "      <th>Central and Eastern Europe</th>\n",
       "      <td>5.365269</td>\n",
       "      <td>167.115385</td>\n",
       "      <td>165.846154</td>\n",
       "      <td>84.230769</td>\n",
       "      <td>78.538462</td>\n",
       "      <td>5.365269</td>\n",
       "      <td>1.067557</td>\n",
       "      <td>0.866329</td>\n",
       "      <td>0.640580</td>\n",
       "      <td>0.300402</td>\n",
       "      <td>0.089141</td>\n",
       "      <td>0.168799</td>\n",
       "      <td>2.232471</td>\n",
       "    </tr>\n",
       "    <tr>\n",
       "      <th>Eastern Asia</th>\n",
       "      <td>5.477000</td>\n",
       "      <td>93.250000</td>\n",
       "      <td>149.750000</td>\n",
       "      <td>10.250000</td>\n",
       "      <td>73.500000</td>\n",
       "      <td>5.477000</td>\n",
       "      <td>1.188970</td>\n",
       "      <td>0.916530</td>\n",
       "      <td>0.772915</td>\n",
       "      <td>0.379782</td>\n",
       "      <td>0.081827</td>\n",
       "      <td>0.171365</td>\n",
       "      <td>1.965680</td>\n",
       "    </tr>\n",
       "    <tr>\n",
       "      <th>Latin America and Caribbean</th>\n",
       "      <td>6.061000</td>\n",
       "      <td>159.478261</td>\n",
       "      <td>109.913043</td>\n",
       "      <td>35.782609</td>\n",
       "      <td>49.782609</td>\n",
       "      <td>6.061000</td>\n",
       "      <td>0.977496</td>\n",
       "      <td>0.890489</td>\n",
       "      <td>0.605534</td>\n",
       "      <td>0.424838</td>\n",
       "      <td>0.105289</td>\n",
       "      <td>0.207837</td>\n",
       "      <td>2.849490</td>\n",
       "    </tr>\n",
       "    <tr>\n",
       "      <th>Middle East and Northern Africa</th>\n",
       "      <td>5.443727</td>\n",
       "      <td>24.818182</td>\n",
       "      <td>41.363636</td>\n",
       "      <td>10.363636</td>\n",
       "      <td>75.636364</td>\n",
       "      <td>5.443727</td>\n",
       "      <td>1.179907</td>\n",
       "      <td>0.685062</td>\n",
       "      <td>0.664625</td>\n",
       "      <td>0.325272</td>\n",
       "      <td>0.173651</td>\n",
       "      <td>0.200153</td>\n",
       "      <td>2.215189</td>\n",
       "    </tr>\n",
       "  </tbody>\n",
       "</table>\n",
       "</div>"
      ],
      "text/plain": [
       "                                 HappinessScore  Beer_PerCapita  \\\n",
       "Region_x                                                          \n",
       "Australia and New Zealand              7.323500      232.000000   \n",
       "Central and Eastern Europe             5.365269      167.115385   \n",
       "Eastern Asia                           5.477000       93.250000   \n",
       "Latin America and Caribbean            6.061000      159.478261   \n",
       "Middle East and Northern Africa        5.443727       24.818182   \n",
       "\n",
       "                                 Spirit_PerCapita  Wine_PerCapita  \\\n",
       "Region_x                                                            \n",
       "Australia and New Zealand               75.500000      193.500000   \n",
       "Central and Eastern Europe             165.846154       84.230769   \n",
       "Eastern Asia                           149.750000       10.250000   \n",
       "Latin America and Caribbean            109.913043       35.782609   \n",
       "Middle East and Northern Africa         41.363636       10.363636   \n",
       "\n",
       "                                 Happiness Rank  Happiness Score  \\\n",
       "Region_x                                                           \n",
       "Australia and New Zealand              8.500000         7.323500   \n",
       "Central and Eastern Europe            78.538462         5.365269   \n",
       "Eastern Asia                          73.500000         5.477000   \n",
       "Latin America and Caribbean           49.782609         6.061000   \n",
       "Middle East and Northern Africa       75.636364         5.443727   \n",
       "\n",
       "                                 Economy (GDP per Capita)    Family  \\\n",
       "Region_x                                                              \n",
       "Australia and New Zealand                        1.402545  1.138770   \n",
       "Central and Eastern Europe                       1.067557  0.866329   \n",
       "Eastern Asia                                     1.188970  0.916530   \n",
       "Latin America and Caribbean                      0.977496  0.890489   \n",
       "Middle East and Northern Africa                  1.179907  0.685062   \n",
       "\n",
       "                                 Health (Life Expectancy)   Freedom  \\\n",
       "Region_x                                                              \n",
       "Australia and New Zealand                        0.841080  0.574920   \n",
       "Central and Eastern Europe                       0.640580  0.300402   \n",
       "Eastern Asia                                     0.772915  0.379782   \n",
       "Latin America and Caribbean                      0.605534  0.424838   \n",
       "Middle East and Northern Africa                  0.664625  0.325272   \n",
       "\n",
       "                                 Trust (Government Corruption)  Generosity  \\\n",
       "Region_x                                                                     \n",
       "Australia and New Zealand                             0.371175    0.484040   \n",
       "Central and Eastern Europe                            0.089141    0.168799   \n",
       "Eastern Asia                                          0.081827    0.171365   \n",
       "Latin America and Caribbean                           0.105289    0.207837   \n",
       "Middle East and Northern Africa                       0.173651    0.200153   \n",
       "\n",
       "                                 Dystopia Residual  \n",
       "Region_x                                            \n",
       "Australia and New Zealand                 2.511015  \n",
       "Central and Eastern Europe                2.232471  \n",
       "Eastern Asia                              1.965680  \n",
       "Latin America and Caribbean               2.849490  \n",
       "Middle East and Northern Africa           2.215189  "
      ]
     },
     "execution_count": 13,
     "metadata": {},
     "output_type": "execute_result"
    }
   ],
   "source": [
    "regions_df = combined_happy_df.groupby('Region_x').mean()\n",
    "regions_df.head()"
   ]
  },
  {
   "cell_type": "markdown",
   "metadata": {},
   "source": [
    "Here, we'll reset the index of the data frame so that our region names can be passed in as a column rather than the data row's index."
   ]
  },
  {
   "cell_type": "code",
   "execution_count": 14,
   "metadata": {},
   "outputs": [
    {
     "data": {
      "text/html": [
       "<div>\n",
       "<style scoped>\n",
       "    .dataframe tbody tr th:only-of-type {\n",
       "        vertical-align: middle;\n",
       "    }\n",
       "\n",
       "    .dataframe tbody tr th {\n",
       "        vertical-align: top;\n",
       "    }\n",
       "\n",
       "    .dataframe thead th {\n",
       "        text-align: right;\n",
       "    }\n",
       "</style>\n",
       "<table border=\"1\" class=\"dataframe\">\n",
       "  <thead>\n",
       "    <tr style=\"text-align: right;\">\n",
       "      <th></th>\n",
       "      <th>Region_x</th>\n",
       "      <th>HappinessScore</th>\n",
       "      <th>Beer_PerCapita</th>\n",
       "      <th>Spirit_PerCapita</th>\n",
       "      <th>Wine_PerCapita</th>\n",
       "      <th>Happiness Rank</th>\n",
       "      <th>Happiness Score</th>\n",
       "      <th>Economy (GDP per Capita)</th>\n",
       "      <th>Family</th>\n",
       "      <th>Health (Life Expectancy)</th>\n",
       "      <th>Freedom</th>\n",
       "      <th>Trust (Government Corruption)</th>\n",
       "      <th>Generosity</th>\n",
       "      <th>Dystopia Residual</th>\n",
       "    </tr>\n",
       "  </thead>\n",
       "  <tbody>\n",
       "    <tr>\n",
       "      <th>0</th>\n",
       "      <td>Australia and New Zealand</td>\n",
       "      <td>7.323500</td>\n",
       "      <td>232.000000</td>\n",
       "      <td>75.500000</td>\n",
       "      <td>193.500000</td>\n",
       "      <td>8.500000</td>\n",
       "      <td>7.323500</td>\n",
       "      <td>1.402545</td>\n",
       "      <td>1.138770</td>\n",
       "      <td>0.841080</td>\n",
       "      <td>0.574920</td>\n",
       "      <td>0.371175</td>\n",
       "      <td>0.484040</td>\n",
       "      <td>2.511015</td>\n",
       "    </tr>\n",
       "    <tr>\n",
       "      <th>1</th>\n",
       "      <td>Central and Eastern Europe</td>\n",
       "      <td>5.365269</td>\n",
       "      <td>167.115385</td>\n",
       "      <td>165.846154</td>\n",
       "      <td>84.230769</td>\n",
       "      <td>78.538462</td>\n",
       "      <td>5.365269</td>\n",
       "      <td>1.067557</td>\n",
       "      <td>0.866329</td>\n",
       "      <td>0.640580</td>\n",
       "      <td>0.300402</td>\n",
       "      <td>0.089141</td>\n",
       "      <td>0.168799</td>\n",
       "      <td>2.232471</td>\n",
       "    </tr>\n",
       "    <tr>\n",
       "      <th>2</th>\n",
       "      <td>Eastern Asia</td>\n",
       "      <td>5.477000</td>\n",
       "      <td>93.250000</td>\n",
       "      <td>149.750000</td>\n",
       "      <td>10.250000</td>\n",
       "      <td>73.500000</td>\n",
       "      <td>5.477000</td>\n",
       "      <td>1.188970</td>\n",
       "      <td>0.916530</td>\n",
       "      <td>0.772915</td>\n",
       "      <td>0.379782</td>\n",
       "      <td>0.081827</td>\n",
       "      <td>0.171365</td>\n",
       "      <td>1.965680</td>\n",
       "    </tr>\n",
       "    <tr>\n",
       "      <th>3</th>\n",
       "      <td>Latin America and Caribbean</td>\n",
       "      <td>6.061000</td>\n",
       "      <td>159.478261</td>\n",
       "      <td>109.913043</td>\n",
       "      <td>35.782609</td>\n",
       "      <td>49.782609</td>\n",
       "      <td>6.061000</td>\n",
       "      <td>0.977496</td>\n",
       "      <td>0.890489</td>\n",
       "      <td>0.605534</td>\n",
       "      <td>0.424838</td>\n",
       "      <td>0.105289</td>\n",
       "      <td>0.207837</td>\n",
       "      <td>2.849490</td>\n",
       "    </tr>\n",
       "    <tr>\n",
       "      <th>4</th>\n",
       "      <td>Middle East and Northern Africa</td>\n",
       "      <td>5.443727</td>\n",
       "      <td>24.818182</td>\n",
       "      <td>41.363636</td>\n",
       "      <td>10.363636</td>\n",
       "      <td>75.636364</td>\n",
       "      <td>5.443727</td>\n",
       "      <td>1.179907</td>\n",
       "      <td>0.685062</td>\n",
       "      <td>0.664625</td>\n",
       "      <td>0.325272</td>\n",
       "      <td>0.173651</td>\n",
       "      <td>0.200153</td>\n",
       "      <td>2.215189</td>\n",
       "    </tr>\n",
       "  </tbody>\n",
       "</table>\n",
       "</div>"
      ],
      "text/plain": [
       "                          Region_x  HappinessScore  Beer_PerCapita  \\\n",
       "0        Australia and New Zealand        7.323500      232.000000   \n",
       "1       Central and Eastern Europe        5.365269      167.115385   \n",
       "2                     Eastern Asia        5.477000       93.250000   \n",
       "3      Latin America and Caribbean        6.061000      159.478261   \n",
       "4  Middle East and Northern Africa        5.443727       24.818182   \n",
       "\n",
       "   Spirit_PerCapita  Wine_PerCapita  Happiness Rank  Happiness Score  \\\n",
       "0         75.500000      193.500000        8.500000         7.323500   \n",
       "1        165.846154       84.230769       78.538462         5.365269   \n",
       "2        149.750000       10.250000       73.500000         5.477000   \n",
       "3        109.913043       35.782609       49.782609         6.061000   \n",
       "4         41.363636       10.363636       75.636364         5.443727   \n",
       "\n",
       "   Economy (GDP per Capita)    Family  Health (Life Expectancy)   Freedom  \\\n",
       "0                  1.402545  1.138770                  0.841080  0.574920   \n",
       "1                  1.067557  0.866329                  0.640580  0.300402   \n",
       "2                  1.188970  0.916530                  0.772915  0.379782   \n",
       "3                  0.977496  0.890489                  0.605534  0.424838   \n",
       "4                  1.179907  0.685062                  0.664625  0.325272   \n",
       "\n",
       "   Trust (Government Corruption)  Generosity  Dystopia Residual  \n",
       "0                       0.371175    0.484040           2.511015  \n",
       "1                       0.089141    0.168799           2.232471  \n",
       "2                       0.081827    0.171365           1.965680  \n",
       "3                       0.105289    0.207837           2.849490  \n",
       "4                       0.173651    0.200153           2.215189  "
      ]
     },
     "execution_count": 14,
     "metadata": {},
     "output_type": "execute_result"
    }
   ],
   "source": [
    "regions_df = regions_df.reset_index()\n",
    "regions_df.head()"
   ]
  },
  {
   "cell_type": "markdown",
   "metadata": {},
   "source": [
    "Creating a numpy range to pass into the plot as the x-axis values,"
   ]
  },
  {
   "cell_type": "code",
   "execution_count": 15,
   "metadata": {},
   "outputs": [],
   "source": [
    "x_range = np.arange(0,len(regions_df.index))"
   ]
  },
  {
   "cell_type": "markdown",
   "metadata": {},
   "source": [
    "Let's make a bar chart displaying each region's Happiness Score in comparison to other regions from our data frame and compare it to what the average happiness score was overall according to our statistics from earlier."
   ]
  },
  {
   "cell_type": "code",
   "execution_count": 16,
   "metadata": {},
   "outputs": [
    {
     "data": {
      "image/png": "[encoded data removed]",
      "text/plain": [
       "<Figure size 1440x432 with 1 Axes>"
      ]
     },
     "metadata": {
      "needs_background": "light"
     },
     "output_type": "display_data"
    }
   ],
   "source": [
    "fig, ax = plt.subplots(figsize=(20,6));\n",
    "ax.bar(x_range, list(regions_df['Happiness Score']));\n",
    "ax.set_xticks(x_range)\n",
    "ax.set_xticklabels(list(regions_df['Region_x']), rotation=45);\n",
    "ax.axhline(5.56, color = 'red', linestyle = '--');\n",
    "ax.set(title = 'Average Happiness Score per Region', xlabel = 'Region', ylabel = 'Avg Happiness Score');"
   ]
  },
  {
   "cell_type": "markdown",
   "metadata": {},
   "source": [
    "Let's also plot some scatter plots to see if we can find any correlation between the alcohol consumption and happiness scores for the countries within our data frame"
   ]
  },
  {
   "cell_type": "code",
   "execution_count": 17,
   "metadata": {},
   "outputs": [
    {
     "name": "stderr",
     "output_type": "stream",
     "text": [
      "C:\\ProgramData\\Anaconda3\\lib\\site-packages\\seaborn\\_decorators.py:36: FutureWarning: Pass the following variables as keyword args: x, y. From version 0.12, the only valid positional argument will be `data`, and passing other arguments without an explicit keyword will result in an error or misinterpretation.\n",
      "  warnings.warn(\n"
     ]
    },
    {
     "data": {
      "image/png": "[encoded data removed]",
      "text/plain": [
       "<Figure size 720x360 with 1 Axes>"
      ]
     },
     "metadata": {
      "needs_background": "light"
     },
     "output_type": "display_data"
    }
   ],
   "source": [
    "fig2, ax2 = plt.subplots(figsize=(10,5));\n",
    "ax2.scatter(combined_happy_df[['Beer_PerCapita']], combined_happy_df[['Happiness Score']]);\n",
    "ax2.set(title = 'Happiness Score vs Beer Consumption', xlabel = 'Beer Consumption Per Capita', \n",
    "       ylabel = 'Happiness Score per Country');\n",
    "plt.ylim(0,10);\n",
    "plt.xlim(-15,400);\n",
    "\n",
    "x = combined_happy_df[['Beer_PerCapita']]\n",
    "y = combined_happy_df[['Happiness Score']]\n",
    "\n",
    "import seaborn as sns\n",
    "sns.regplot(x, y);"
   ]
  },
  {
   "cell_type": "code",
   "execution_count": 18,
   "metadata": {},
   "outputs": [
    {
     "name": "stderr",
     "output_type": "stream",
     "text": [
      "C:\\ProgramData\\Anaconda3\\lib\\site-packages\\seaborn\\_decorators.py:36: FutureWarning: Pass the following variables as keyword args: x, y. From version 0.12, the only valid positional argument will be `data`, and passing other arguments without an explicit keyword will result in an error or misinterpretation.\n",
      "  warnings.warn(\n"
     ]
    },
    {
     "data": {
      "image/png": "[encoded data removed]",
      "text/plain": [
       "<Figure size 720x360 with 1 Axes>"
      ]
     },
     "metadata": {
      "needs_background": "light"
     },
     "output_type": "display_data"
    }
   ],
   "source": [
    "fig3, ax3 = plt.subplots(figsize=(10,5));\n",
    "ax3.scatter(combined_happy_df[['Spirit_PerCapita']], combined_happy_df[['Happiness Score']]);\n",
    "ax3.set(title = 'Happiness Score vs Spirit Consumption', xlabel = 'Spirit Consumption Per Capita', \n",
    "       ylabel = 'Happiness Score per Country');\n",
    "plt.ylim(0,10);\n",
    "plt.xlim(-15,400);\n",
    "\n",
    "x = combined_happy_df[['Spirit_PerCapita']]\n",
    "y = combined_happy_df[['Happiness Score']]\n",
    "\n",
    "import seaborn as sns\n",
    "sns.regplot(x, y);"
   ]
  },
  {
   "cell_type": "code",
   "execution_count": 19,
   "metadata": {},
   "outputs": [
    {
     "name": "stderr",
     "output_type": "stream",
     "text": [
      "C:\\ProgramData\\Anaconda3\\lib\\site-packages\\seaborn\\_decorators.py:36: FutureWarning: Pass the following variables as keyword args: x, y. From version 0.12, the only valid positional argument will be `data`, and passing other arguments without an explicit keyword will result in an error or misinterpretation.\n",
      "  warnings.warn(\n"
     ]
    },
    {
     "data": {
      "image/png": "[encoded data removed]",
      "text/plain": [
       "<Figure size 720x360 with 1 Axes>"
      ]
     },
     "metadata": {
      "needs_background": "light"
     },
     "output_type": "display_data"
    }
   ],
   "source": [
    "fig4, ax4 = plt.subplots(figsize=(10,5));\n",
    "ax4.scatter(combined_happy_df[['Wine_PerCapita']], combined_happy_df[['Happiness Score']]);\n",
    "ax4.set(title = 'Happiness Score vs Wine Consumption', xlabel = 'Wine Consumption Per Capita', \n",
    "       ylabel = 'Happiness Score per Country');\n",
    "plt.ylim(0,10);\n",
    "plt.xlim(-15,400);\n",
    "\n",
    "x = combined_happy_df[['Wine_PerCapita']]\n",
    "y = combined_happy_df[['Happiness Score']]\n",
    "\n",
    "import seaborn as sns\n",
    "sns.regplot(x, y);"
   ]
  },
  {
   "cell_type": "markdown",
   "metadata": {},
   "source": [
    "Based on our graphs, it looks like there is a possible positive correlation between alcohol consumption and happiness"
   ]
  },
  {
   "cell_type": "markdown",
   "metadata": {},
   "source": [
    "Before moving forward, we'll rename our columns to get rid of any spaces/typos/etc."
   ]
  },
  {
   "cell_type": "code",
   "execution_count": 20,
   "metadata": {},
   "outputs": [
    {
     "data": {
      "text/plain": [
       "Index(['Country', 'Region', 'Hemisphere', 'HappinessScore', 'Beer_PerCapita',\n",
       "       'Spirit_PerCapita', 'Wine_PerCapita', 'Happiness_Rank',\n",
       "       'Happiness_Score', 'Economy_GDP_per_Capita', 'Family',\n",
       "       'Life_Expectancy', 'Freedom', 'Government_Corruption', 'Generosity',\n",
       "       'Dystopia_Residual'],\n",
       "      dtype='object')"
      ]
     },
     "execution_count": 20,
     "metadata": {},
     "output_type": "execute_result"
    }
   ],
   "source": [
    "combined_happy_df_rename = combined_happy_df.rename(columns = {'Region_x': 'Region', \n",
    "                                                               'Happiness Rank':'Happiness_Rank',\n",
    "                                                               'Happiness Score':'Happiness_Score',\n",
    "                                                               'Economy (GDP per Capita)': 'Economy_GDP_per_Capita', \n",
    "                                                               'Health (Life Expectancy)': 'Life_Expectancy',\n",
    "                                                               'Trust (Government Corruption)':'Government_Corruption',\n",
    "                                                              'Dystopia Residual': 'Dystopia_Residual'})\n",
    "combined_happy_df_rename.columns"
   ]
  },
  {
   "cell_type": "markdown",
   "metadata": {},
   "source": [
    "# Load"
   ]
  },
  {
   "cell_type": "markdown",
   "metadata": {},
   "source": [
    "Now that we've explored our data, we'll connect to our postgres database and load in what we found. First, we'll install psycopg2 to avoid possible errors."
   ]
  },
  {
   "cell_type": "code",
   "execution_count": 21,
   "metadata": {},
   "outputs": [
    {
     "name": "stdout",
     "output_type": "stream",
     "text": [
      "Requirement already satisfied: psycopg2 in c:\\programdata\\anaconda3\\lib\\site-packages (2.9.1)\n"
     ]
    }
   ],
   "source": [
    "!pip install psycopg2"
   ]
  },
  {
   "cell_type": "markdown",
   "metadata": {},
   "source": [
    "Once this is complete, we can make a connection to our data base and pass in our merged and cleaned data frame as well as create some more specialized tables and load those into our database as well"
   ]
  },
  {
   "cell_type": "code",
   "execution_count": 22,
   "metadata": {},
   "outputs": [],
   "source": [
    "connection_string = \"postgres:postgres@localhost:5432/happy_db\"\n",
    "engine = create_engine(f'postgresql://{connection_string}')"
   ]
  },
  {
   "cell_type": "code",
   "execution_count": 23,
   "metadata": {},
   "outputs": [],
   "source": [
    "combined_happy_df_rename.to_sql(name='happy', con=engine, if_exists='replace', index=False)"
   ]
  },
  {
   "cell_type": "markdown",
   "metadata": {},
   "source": [
    "Confirm our table was successfully loaded"
   ]
  },
  {
   "cell_type": "code",
   "execution_count": 24,
   "metadata": {},
   "outputs": [
    {
     "data": {
      "text/plain": [
       "['happy']"
      ]
     },
     "execution_count": 24,
     "metadata": {},
     "output_type": "execute_result"
    }
   ],
   "source": [
    "engine.table_names()"
   ]
  },
  {
   "cell_type": "markdown",
   "metadata": {},
   "source": [
    "### Import and establish Base for class that will be constructed "
   ]
  },
  {
   "cell_type": "code",
   "execution_count": 25,
   "metadata": {},
   "outputs": [],
   "source": [
    "Base = declarative_base()"
   ]
  },
  {
   "cell_type": "code",
   "execution_count": 26,
   "metadata": {},
   "outputs": [],
   "source": [
    "class Country_Happy(Base):\n",
    "    __tablename__ = 'happy'\n",
    "    __table_args__ = {'extend_existing': True}\n",
    "    #id = Column(Integer, primary_key=True)\n",
    "    Country = Column(String(255))\n",
    "    Region = Column(String(255))\n",
    "    Hemisphere = Column(String(255)) \n",
    "    Happiness_Rank = Column(Integer, primary_key=True) \n",
    "    Happiness_Score = Column(Float)\n",
    "    Beer_PerCapita = Column(Float)\n",
    "    Spirit_PerCapita = Column(Float)\n",
    "    Wine_PerCapita = Column(Float)\n",
    "    Economy_GDP_per_Capita = Column(Float)\n",
    "    Family = Column(Float)\n",
    "    Life_Expectancy = Column(Float) \n",
    "    Freedom = Column(Float) \n",
    "    Government_Corruption = Column(Float)\n",
    "    Generosity = Column(Float)\n",
    "    Dystopia_Residual = Column(Float)"
   ]
  },
  {
   "cell_type": "code",
   "execution_count": 27,
   "metadata": {},
   "outputs": [],
   "source": [
    "Base.metadata.create_all(engine)"
   ]
  },
  {
   "cell_type": "code",
   "execution_count": 28,
   "metadata": {},
   "outputs": [],
   "source": [
    "session = Session(bind=engine)"
   ]
  },
  {
   "cell_type": "markdown",
   "metadata": {},
   "source": [
    "Let's pull and print out the top 5 happy countries and their alcohol consumption and then do the same for the 5 least happy countries from our data"
   ]
  },
  {
   "cell_type": "code",
   "execution_count": 29,
   "metadata": {},
   "outputs": [
    {
     "name": "stdout",
     "output_type": "stream",
     "text": [
      "----------\n",
      "Country: Denmark\n",
      "Happiness_Rank: 1\n",
      "Region: Western Europe\n",
      "Happiness_Score: 7.526\n",
      "Beer Consumption (Per Capita): 224.0\n",
      "Wine Consumption (Per Capita): 278.0\n",
      "Spirit Consumption (Per Capita): 81.0\n",
      "----------\n",
      "Country: Switzerland\n",
      "Happiness_Rank: 2\n",
      "Region: Western Europe\n",
      "Happiness_Score: 7.5089999999999995\n",
      "Beer Consumption (Per Capita): 185.0\n",
      "Wine Consumption (Per Capita): 280.0\n",
      "Spirit Consumption (Per Capita): 100.0\n",
      "----------\n",
      "Country: Iceland\n",
      "Happiness_Rank: 3\n",
      "Region: Western Europe\n",
      "Happiness_Score: 7.501\n",
      "Beer Consumption (Per Capita): 233.0\n",
      "Wine Consumption (Per Capita): 78.0\n",
      "Spirit Consumption (Per Capita): 61.0\n",
      "----------\n",
      "Country: Norway\n",
      "Happiness_Rank: 4\n",
      "Region: Western Europe\n",
      "Happiness_Score: 7.497999999999999\n",
      "Beer Consumption (Per Capita): 169.0\n",
      "Wine Consumption (Per Capita): 129.0\n",
      "Spirit Consumption (Per Capita): 71.0\n",
      "----------\n",
      "Country: Finland\n",
      "Happiness_Rank: 5\n",
      "Region: Western Europe\n",
      "Happiness_Score: 7.412999999999999\n",
      "Beer Consumption (Per Capita): 263.0\n",
      "Wine Consumption (Per Capita): 97.0\n",
      "Spirit Consumption (Per Capita): 133.0\n"
     ]
    }
   ],
   "source": [
    "countries_list = session.query(Country_Happy).order_by(Country_Happy.Happiness_Rank)\n",
    "for country in countries_list[:5]:\n",
    "    print(\"-\"*10)\n",
    "    print(f\"Country: {country.Country}\")\n",
    "    print(f\"Happiness_Rank: {country.Happiness_Rank}\")\n",
    "    print(f\"Region: {country.Region}\")\n",
    "    print(f\"Happiness_Score: {country.Happiness_Score}\")\n",
    "    print(f\"Beer Consumption (Per Capita): {country.Beer_PerCapita}\")\n",
    "    print(f\"Wine Consumption (Per Capita): {country.Wine_PerCapita}\")\n",
    "    print(f\"Spirit Consumption (Per Capita): {country.Spirit_PerCapita}\")"
   ]
  },
  {
   "cell_type": "code",
   "execution_count": 30,
   "metadata": {},
   "outputs": [
    {
     "name": "stdout",
     "output_type": "stream",
     "text": [
      "----------\n",
      "Country: Tanzania\n",
      "Happiness_Rank: 149\n",
      "Region: Sub-Saharan Africa\n",
      "Happiness_Score: 3.6660000000000004\n",
      "Beer Consumption (Per Capita): 36.0\n",
      "Wine Consumption (Per Capita): 1.0\n",
      "Spirit Consumption (Per Capita): 6.0\n",
      "----------\n",
      "Country: Liberia\n",
      "Happiness_Rank: 150\n",
      "Region: Sub-Saharan Africa\n",
      "Happiness_Score: 3.622\n",
      "Beer Consumption (Per Capita): 19.0\n",
      "Wine Consumption (Per Capita): 2.0\n",
      "Spirit Consumption (Per Capita): 152.0\n",
      "----------\n",
      "Country: Benin\n",
      "Happiness_Rank: 153\n",
      "Region: Sub-Saharan Africa\n",
      "Happiness_Score: 3.484\n",
      "Beer Consumption (Per Capita): 34.0\n",
      "Wine Consumption (Per Capita): 13.0\n",
      "Spirit Consumption (Per Capita): 4.0\n",
      "----------\n",
      "Country: Togo\n",
      "Happiness_Rank: 155\n",
      "Region: Sub-Saharan Africa\n",
      "Happiness_Score: 3.303\n",
      "Beer Consumption (Per Capita): 36.0\n",
      "Wine Consumption (Per Capita): 19.0\n",
      "Spirit Consumption (Per Capita): 2.0\n",
      "----------\n",
      "Country: Syria\n",
      "Happiness_Rank: 156\n",
      "Region: Middle East and Northern Africa\n",
      "Happiness_Score: 3.069\n",
      "Beer Consumption (Per Capita): 5.0\n",
      "Wine Consumption (Per Capita): 16.0\n",
      "Spirit Consumption (Per Capita): 35.0\n"
     ]
    }
   ],
   "source": [
    "for country in countries_list[-5:]:\n",
    "    print(\"-\"*10)\n",
    "    print(f\"Country: {country.Country}\")\n",
    "    print(f\"Happiness_Rank: {country.Happiness_Rank}\")\n",
    "    print(f\"Region: {country.Region}\")\n",
    "    print(f\"Happiness_Score: {country.Happiness_Score}\")\n",
    "    print(f\"Beer Consumption (Per Capita): {country.Beer_PerCapita}\")\n",
    "    print(f\"Wine Consumption (Per Capita): {country.Wine_PerCapita}\")\n",
    "    print(f\"Spirit Consumption (Per Capita): {country.Spirit_PerCapita}\")"
   ]
  },
  {
   "cell_type": "code",
   "execution_count": 31,
   "metadata": {},
   "outputs": [],
   "source": [
    "session.close()"
   ]
  },
  {
   "cell_type": "markdown",
   "metadata": {},
   "source": [
    "In conclusion, it looks like happier countries and regions tend to consume more alcohol per capita so it may be time to pick up a pint of your favorite beer if you want to live your best life."
   ]
  }
 ],
 "metadata": {
  "kernelspec": {
   "display_name": "Python 3",
   "language": "python",
   "name": "python3"
  },
  "language_info": {
   "codemirror_mode": {
    "name": "ipython",
    "version": 3
   },
   "file_extension": ".py",
   "mimetype": "text/x-python",
   "name": "python",
   "nbconvert_exporter": "python",
   "pygments_lexer": "ipython3",
   "version": "3.8.5"
  }
 },
 "nbformat": 4,
 "nbformat_minor": 4
}
